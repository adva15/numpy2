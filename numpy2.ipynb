{
 "cells": [
  {
   "cell_type": "code",
   "execution_count": 54,
   "id": "7d54c43c-023a-40c9-a1b0-9725c04849de",
   "metadata": {},
   "outputs": [],
   "source": [
    "import numpy as np"
   ]
  },
  {
   "cell_type": "code",
   "execution_count": 50,
   "id": "175194fd-acfa-47d0-92dc-709537725791",
   "metadata": {},
   "outputs": [
    {
     "data": {
      "text/plain": [
       "array([[ 1,  2,  3,  4],\n",
       "       [ 5,  6,  7,  8],\n",
       "       [ 9, 10, 11, 12],\n",
       "       [13, 14, 15,  0]])"
      ]
     },
     "metadata": {},
     "output_type": "display_data"
    }
   ],
   "source": [
    "# 1\n",
    "num1= np.arange(1, 16)\n",
    "\n",
    "num1.resize(4, 4) \n",
    "display(num1)"
   ]
  },
  {
   "cell_type": "code",
   "execution_count": 51,
   "id": "172a74a8-7d9b-4869-9566-ce44e9729753",
   "metadata": {},
   "outputs": [
    {
     "data": {
      "text/plain": [
       "array([[10, 15],\n",
       "       [20, 25],\n",
       "       [30, 35],\n",
       "       [40, 45]])"
      ]
     },
     "metadata": {},
     "output_type": "display_data"
    }
   ],
   "source": [
    "#2\n",
    "num2= np.arange(10, 51, 5)\n",
    "\n",
    "num2.resize(4, 2) \n",
    "display(num2)"
   ]
  },
  {
   "cell_type": "code",
   "execution_count": 55,
   "id": "fb4a4f6c-cf18-457d-bdd4-a83811d540b0",
   "metadata": {},
   "outputs": [
    {
     "name": "stdout",
     "output_type": "stream",
     "text": [
      "max 89\n",
      "min 14\n"
     ]
    },
    {
     "data": {
      "text/plain": [
       "array([[18, 89, 48],\n",
       "       [26, 46, 14],\n",
       "       [83, 52, 49]], dtype=int32)"
      ]
     },
     "metadata": {},
     "output_type": "display_data"
    }
   ],
   "source": [
    "#3\n",
    "num3= np.random.randint(1, 101, (3, 3))\n",
    "\n",
    "print('max', num3.max())  # max\n",
    "print('min', num3.min()) \n",
    "display(num3)"
   ]
  },
  {
   "cell_type": "code",
   "execution_count": null,
   "id": "4026b802-9b82-4242-ad04-76b6fb133cae",
   "metadata": {},
   "outputs": [],
   "source": []
  },
  {
   "cell_type": "code",
   "execution_count": null,
   "id": "ea1883f1-95c1-4924-9865-1c747caab300",
   "metadata": {},
   "outputs": [],
   "source": []
  },
  {
   "cell_type": "code",
   "execution_count": null,
   "id": "00cef297-bc02-462e-a113-5088b6dcab5e",
   "metadata": {},
   "outputs": [],
   "source": []
  }
 ],
 "metadata": {
  "kernelspec": {
   "display_name": "Python 3 (ipykernel)",
   "language": "python",
   "name": "python3"
  },
  "language_info": {
   "codemirror_mode": {
    "name": "ipython",
    "version": 3
   },
   "file_extension": ".py",
   "mimetype": "text/x-python",
   "name": "python",
   "nbconvert_exporter": "python",
   "pygments_lexer": "ipython3",
   "version": "3.12.5"
  }
 },
 "nbformat": 4,
 "nbformat_minor": 5
}
